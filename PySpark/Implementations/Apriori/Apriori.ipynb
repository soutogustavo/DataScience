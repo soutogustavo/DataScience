{
 "cells": [
  {
   "cell_type": "markdown",
   "metadata": {},
   "source": [
    "# Python-ML-Models :: Apriori - implementation from scratch"
   ]
  },
  {
   "cell_type": "markdown",
   "metadata": {},
   "source": [
    "---"
   ]
  },
  {
   "cell_type": "markdown",
   "metadata": {},
   "source": [
    "## Information\n",
    "\n",
    "**Goal**: Understand the inner works of the *apriori* algorithm."
   ]
  },
  {
   "cell_type": "markdown",
   "metadata": {},
   "source": [
    "## Implementation\n"
   ]
  },
  {
   "cell_type": "markdown",
   "metadata": {},
   "source": [
    "### Libraries"
   ]
  },
  {
   "cell_type": "code",
   "execution_count": 64,
   "metadata": {},
   "outputs": [],
   "source": [
    "from __future__ import division\n",
    "import pandas as pd\n",
    "import numpy as np\n",
    "from itertools import combinations\n",
    "\n",
    "import warnings\n",
    "warnings.filterwarnings(\"ignore\")"
   ]
  },
  {
   "cell_type": "markdown",
   "metadata": {},
   "source": [
    "### Defining Apriori class"
   ]
  },
  {
   "cell_type": "code",
   "execution_count": 65,
   "metadata": {},
   "outputs": [],
   "source": [
    "class Apriori(object):\n",
    "    def __init__(self, minSupport, sparse_matrix=False):\n",
    "        self.minSupport = minSupport\n",
    "        self.sparse_matrix = sparse_matrix\n",
    "        \n",
    "    def __trans_from_sparse(self, dta):\n",
    "        nsp = []\n",
    "        for i in range(dta.shape[0]):\n",
    "            nsp.append(dta.ix[i,1:][lambda x: x ==1].index.tolist())\n",
    "        return nsp\n",
    "        \n",
    "    def __simple_support(self, products, num_trsc):\n",
    "        return { k:(v/num_trsc) for k,v in list(products.items())}\n",
    "    \n",
    "    def __support(self, dta, k, b):\n",
    "        products = {k:0 for k in dta}\n",
    "        for tr in dta:\n",
    "            for e in b:\n",
    "                total = 0\n",
    "                for v in tr:\n",
    "                    if (v in e): total += 1\n",
    "                if(total == k): products[tr] += 1\n",
    "        return self.__simple_support(products,len(b))\n",
    "    \n",
    "    def __filter_minSupport(self, support):\n",
    "        return dict(filter(lambda x: x[1] >= self.minSupport, support.items()))\n",
    "    \n",
    "    def __compItemSet(self, dta, k, base):\n",
    "        comb = list( combinations(dta.keys(), k) )\n",
    "        com_supp = self.__support(comb,k,base)\n",
    "        fcspp = self.__filter_minSupport(com_supp)\n",
    "        if(len(fcspp) == 0):\n",
    "            return dta\n",
    "        else:\n",
    "            k += 1\n",
    "            self.__compItemSet(fcspp,k,base)\n",
    "            return fcspp\n",
    "                \n",
    "    def freqItemSet(self, base):\n",
    "        num_transactions = base.shape[0]\n",
    "        \n",
    "        if(self.sparse_matrix):\n",
    "            base = self.__trans_from_sparse(base)\n",
    "            products = {k:0 for k in np.unique(np.hstack(base))}\n",
    "            for p in products.keys():\n",
    "                for t in base:\n",
    "                    if (p in t):\n",
    "                        products[p] += 1\n",
    "            \n",
    "        else:\n",
    "            base = np.array([ i.split(\",\") for i in base])\n",
    "            products = {k:0 for k in np.unique(np.hstack(base))}\n",
    "            for p in products.keys():\n",
    "                for t in base:\n",
    "                    if (p in t):\n",
    "                        products[p] += 1\n",
    "                        \n",
    "        sup = self.__simple_support(products,num_transactions)\n",
    "        sup = self.__filter_minSupport(sup)\n",
    "            \n",
    "        k = 2\n",
    "        sup = self.__compItemSet(sup,k,base) \n",
    "                \n",
    "        return sup"
   ]
  },
  {
   "cell_type": "markdown",
   "metadata": {},
   "source": [
    "### Loading data"
   ]
  },
  {
   "cell_type": "markdown",
   "metadata": {},
   "source": [
    "#### Sparse data"
   ]
  },
  {
   "cell_type": "code",
   "execution_count": 66,
   "metadata": {},
   "outputs": [
    {
     "data": {
      "text/html": [
       "<div>\n",
       "<style scoped>\n",
       "    .dataframe tbody tr th:only-of-type {\n",
       "        vertical-align: middle;\n",
       "    }\n",
       "\n",
       "    .dataframe tbody tr th {\n",
       "        vertical-align: top;\n",
       "    }\n",
       "\n",
       "    .dataframe thead th {\n",
       "        text-align: right;\n",
       "    }\n",
       "</style>\n",
       "<table border=\"1\" class=\"dataframe\">\n",
       "  <thead>\n",
       "    <tr style=\"text-align: right;\">\n",
       "      <th></th>\n",
       "      <th>transaction_ID</th>\n",
       "      <th>milk</th>\n",
       "      <th>bread</th>\n",
       "      <th>butter</th>\n",
       "      <th>beer</th>\n",
       "      <th>diapers</th>\n",
       "    </tr>\n",
       "  </thead>\n",
       "  <tbody>\n",
       "    <tr>\n",
       "      <th>0</th>\n",
       "      <td>1</td>\n",
       "      <td>1</td>\n",
       "      <td>1</td>\n",
       "      <td>0</td>\n",
       "      <td>0</td>\n",
       "      <td>0</td>\n",
       "    </tr>\n",
       "    <tr>\n",
       "      <th>1</th>\n",
       "      <td>2</td>\n",
       "      <td>0</td>\n",
       "      <td>0</td>\n",
       "      <td>1</td>\n",
       "      <td>0</td>\n",
       "      <td>0</td>\n",
       "    </tr>\n",
       "    <tr>\n",
       "      <th>2</th>\n",
       "      <td>3</td>\n",
       "      <td>0</td>\n",
       "      <td>0</td>\n",
       "      <td>0</td>\n",
       "      <td>1</td>\n",
       "      <td>1</td>\n",
       "    </tr>\n",
       "    <tr>\n",
       "      <th>3</th>\n",
       "      <td>4</td>\n",
       "      <td>1</td>\n",
       "      <td>1</td>\n",
       "      <td>1</td>\n",
       "      <td>0</td>\n",
       "      <td>0</td>\n",
       "    </tr>\n",
       "    <tr>\n",
       "      <th>4</th>\n",
       "      <td>5</td>\n",
       "      <td>0</td>\n",
       "      <td>1</td>\n",
       "      <td>0</td>\n",
       "      <td>0</td>\n",
       "      <td>0</td>\n",
       "    </tr>\n",
       "  </tbody>\n",
       "</table>\n",
       "</div>"
      ],
      "text/plain": [
       "   transaction_ID  milk  bread  butter  beer  diapers\n",
       "0               1     1      1       0     0        0\n",
       "1               2     0      0       1     0        0\n",
       "2               3     0      0       0     1        1\n",
       "3               4     1      1       1     0        0\n",
       "4               5     0      1       0     0        0"
      ]
     },
     "execution_count": 66,
     "metadata": {},
     "output_type": "execute_result"
    }
   ],
   "source": [
    "data_s = pd.read_csv(\"transactions_sparse.csv\")\n",
    "data_s.head()"
   ]
  },
  {
   "cell_type": "markdown",
   "metadata": {},
   "source": [
    "#### Non-Sparse data"
   ]
  },
  {
   "cell_type": "code",
   "execution_count": 67,
   "metadata": {},
   "outputs": [
    {
     "data": {
      "text/html": [
       "<div>\n",
       "<style scoped>\n",
       "    .dataframe tbody tr th:only-of-type {\n",
       "        vertical-align: middle;\n",
       "    }\n",
       "\n",
       "    .dataframe tbody tr th {\n",
       "        vertical-align: top;\n",
       "    }\n",
       "\n",
       "    .dataframe thead th {\n",
       "        text-align: right;\n",
       "    }\n",
       "</style>\n",
       "<table border=\"1\" class=\"dataframe\">\n",
       "  <thead>\n",
       "    <tr style=\"text-align: right;\">\n",
       "      <th></th>\n",
       "      <th>transaction_ID</th>\n",
       "      <th>products</th>\n",
       "    </tr>\n",
       "  </thead>\n",
       "  <tbody>\n",
       "    <tr>\n",
       "      <th>0</th>\n",
       "      <td>1</td>\n",
       "      <td>milk,bread</td>\n",
       "    </tr>\n",
       "    <tr>\n",
       "      <th>1</th>\n",
       "      <td>2</td>\n",
       "      <td>butter</td>\n",
       "    </tr>\n",
       "    <tr>\n",
       "      <th>2</th>\n",
       "      <td>3</td>\n",
       "      <td>beer,diapers</td>\n",
       "    </tr>\n",
       "    <tr>\n",
       "      <th>3</th>\n",
       "      <td>4</td>\n",
       "      <td>milk,bread,butter</td>\n",
       "    </tr>\n",
       "    <tr>\n",
       "      <th>4</th>\n",
       "      <td>5</td>\n",
       "      <td>bread</td>\n",
       "    </tr>\n",
       "  </tbody>\n",
       "</table>\n",
       "</div>"
      ],
      "text/plain": [
       "   transaction_ID           products\n",
       "0               1         milk,bread\n",
       "1               2             butter\n",
       "2               3       beer,diapers\n",
       "3               4  milk,bread,butter\n",
       "4               5              bread"
      ]
     },
     "execution_count": 67,
     "metadata": {},
     "output_type": "execute_result"
    }
   ],
   "source": [
    "data_nsp = pd.read_csv(\"transactions.csv\",sep=';')\n",
    "data_nsp.head()"
   ]
  },
  {
   "cell_type": "markdown",
   "metadata": {},
   "source": [
    "### Applying Apriori"
   ]
  },
  {
   "cell_type": "markdown",
   "metadata": {},
   "source": [
    "#### to sparse-data"
   ]
  },
  {
   "cell_type": "code",
   "execution_count": 68,
   "metadata": {},
   "outputs": [
    {
     "data": {
      "text/plain": [
       "{('beer', 'diapers'): 0.2,\n",
       " ('bread', 'butter'): 0.2,\n",
       " ('bread', 'milk'): 0.4,\n",
       " ('butter', 'milk'): 0.2}"
      ]
     },
     "execution_count": 68,
     "metadata": {},
     "output_type": "execute_result"
    }
   ],
   "source": [
    "apr = Apriori(0.2, sparse_matrix=True) #set minimum support = 0.2 and sparse_marix = True\n",
    "\n",
    "res = apr.freqItemSet(data_s)\n",
    "res"
   ]
  },
  {
   "cell_type": "markdown",
   "metadata": {},
   "source": [
    "#### to non-sparse data"
   ]
  },
  {
   "cell_type": "code",
   "execution_count": 69,
   "metadata": {},
   "outputs": [
    {
     "data": {
      "text/plain": [
       "{('beer', 'diapers'): 0.2,\n",
       " ('bread', 'butter'): 0.2,\n",
       " ('bread', 'milk'): 0.4,\n",
       " ('butter', 'milk'): 0.2}"
      ]
     },
     "execution_count": 69,
     "metadata": {},
     "output_type": "execute_result"
    }
   ],
   "source": [
    "apr = Apriori(0.2) #set minimum support = 0.2 and let sparse_marix as its default value (= False)\n",
    "\n",
    "res = apr.freqItemSet(data_nsp.ix[:,1])\n",
    "res"
   ]
  },
  {
   "cell_type": "code",
   "execution_count": 70,
   "metadata": {},
   "outputs": [
    {
     "data": {
      "text/plain": [
       "{('bread', 'milk'): 0.4}"
      ]
     },
     "execution_count": 70,
     "metadata": {},
     "output_type": "execute_result"
    }
   ],
   "source": [
    "apr = Apriori(0.4) #set minimum support = 0.4 and let sparse_marix as its default value (= False)\n",
    "\n",
    "res = apr.freqItemSet(data_nsp.ix[:,1])\n",
    "res"
   ]
  }
 ],
 "metadata": {
  "kernelspec": {
   "display_name": "Python 3",
   "language": "python",
   "name": "python3"
  },
  "language_info": {
   "codemirror_mode": {
    "name": "ipython",
    "version": 3
   },
   "file_extension": ".py",
   "mimetype": "text/x-python",
   "name": "python",
   "nbconvert_exporter": "python",
   "pygments_lexer": "ipython3",
   "version": "3.6.5"
  }
 },
 "nbformat": 4,
 "nbformat_minor": 2
}
